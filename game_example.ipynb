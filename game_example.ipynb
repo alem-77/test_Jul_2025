{
 "cells": [
  {
   "cell_type": "code",
   "execution_count": 5,
   "id": "1517e111",
   "metadata": {},
   "outputs": [],
   "source": [
    "from game_example2 import random_predict, score_game"
   ]
  },
  {
   "cell_type": "markdown",
   "id": "f958daef",
   "metadata": {},
   "source": [
    "### Запускаем тестовую игру из внешнего файла"
   ]
  },
  {
   "cell_type": "code",
   "execution_count": 6,
   "id": "151aa8ad",
   "metadata": {},
   "outputs": [
    {
     "name": "stdout",
     "output_type": "stream",
     "text": [
      "Ваш алгоритм угадывает число в среднем за: 101 попыток\n"
     ]
    },
    {
     "data": {
      "text/plain": [
       "101"
      ]
     },
     "execution_count": 6,
     "metadata": {},
     "output_type": "execute_result"
    }
   ],
   "source": [
    "score_game(random_predict)"
   ]
  },
  {
   "cell_type": "markdown",
   "id": "c67b0dab",
   "metadata": {},
   "source": [
    "Здесь тестирую просмотр значения переменных в VS Code"
   ]
  },
  {
   "cell_type": "code",
   "execution_count": 7,
   "id": "d9b63e89",
   "metadata": {},
   "outputs": [],
   "source": [
    "n = 10\n",
    "z = n\n",
    "n = 5"
   ]
  },
  {
   "cell_type": "code",
   "execution_count": null,
   "id": "b0a4d037",
   "metadata": {},
   "outputs": [],
   "source": []
  }
 ],
 "metadata": {
  "kernelspec": {
   "display_name": "1sem_env",
   "language": "python",
   "name": "python3"
  },
  "language_info": {
   "codemirror_mode": {
    "name": "ipython",
    "version": 3
   },
   "file_extension": ".py",
   "mimetype": "text/x-python",
   "name": "python",
   "nbconvert_exporter": "python",
   "pygments_lexer": "ipython3",
   "version": "3.12.6"
  }
 },
 "nbformat": 4,
 "nbformat_minor": 5
}
